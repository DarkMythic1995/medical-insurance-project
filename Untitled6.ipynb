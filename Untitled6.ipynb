{
 "cells": [
  {
   "cell_type": "code",
   "execution_count": 1,
   "id": "6f150d04-cf94-4a56-9eaf-5012c8800c69",
   "metadata": {},
   "outputs": [],
   "source": [
    "medical_data = \\\n",
    "\"\"\"Marina Allison   ,27   ,   31.1 , \n",
    "#7010.0   ;Markus Valdez   ,   30, \n",
    "22.4,   #4050.0 ;Connie Ballard ,43 \n",
    ",   25.3 , #12060.0 ;Darnell Weber   \n",
    ",   35   , 20.6   , #7500.0;\n",
    "Sylvie Charles   ,22, 22.1 \n",
    ",#3022.0   ;   Vinay Padilla,24,   \n",
    "26.9 ,#4620.0 ;Meredith Santiago, 51   , \n",
    "29.3 ,#16330.0;   Andre Mccarty, \n",
    "19,22.7 , #2900.0 ; \n",
    "Lorena Hodson ,65, 33.1 , #19370.0; \n",
    "Isaac Vu ,34, 24.8,   #7045.0\"\"\""
   ]
  },
  {
   "cell_type": "code",
   "execution_count": 2,
   "id": "89e5b5a7-a7c8-47db-912a-2748e1b58b7e",
   "metadata": {},
   "outputs": [
    {
     "name": "stdout",
     "output_type": "stream",
     "text": [
      "Marina Allison   ,27   ,   31.1 , \n",
      "#7010.0   ;Markus Valdez   ,   30, \n",
      "22.4,   #4050.0 ;Connie Ballard ,43 \n",
      ",   25.3 , #12060.0 ;Darnell Weber   \n",
      ",   35   , 20.6   , #7500.0;\n",
      "Sylvie Charles   ,22, 22.1 \n",
      ",#3022.0   ;   Vinay Padilla,24,   \n",
      "26.9 ,#4620.0 ;Meredith Santiago, 51   , \n",
      "29.3 ,#16330.0;   Andre Mccarty, \n",
      "19,22.7 , #2900.0 ; \n",
      "Lorena Hodson ,65, 33.1 , #19370.0; \n",
      "Isaac Vu ,34, 24.8,   #7045.0\n"
     ]
    }
   ],
   "source": [
    "print(medical_data)"
   ]
  },
  {
   "cell_type": "code",
   "execution_count": 5,
   "id": "22b0dd92-7c9e-4825-8524-01df0b064297",
   "metadata": {},
   "outputs": [
    {
     "name": "stdout",
     "output_type": "stream",
     "text": [
      "\n",
      "Updated Medical Data:\n",
      " Marina Allison   ,27   ,   31.1 , \n",
      "$7010.0   ;Markus Valdez   ,   30, \n",
      "22.4,   $4050.0 ;Connie Ballard ,43 \n",
      ",   25.3 , $12060.0 ;Darnell Weber   \n",
      ",   35   , 20.6   , $7500.0;\n",
      "Sylvie Charles   ,22, 22.1 \n",
      ",$3022.0   ;   Vinay Padilla,24,   \n",
      "26.9 ,$4620.0 ;Meredith Santiago, 51   , \n",
      "29.3 ,$16330.0;   Andre Mccarty, \n",
      "19,22.7 , $2900.0 ; \n",
      "Lorena Hodson ,65, 33.1 , $19370.0; \n",
      "Isaac Vu ,34, 24.8,   $7045.0\n"
     ]
    }
   ],
   "source": [
    "# Replace # with $ and store in updated_medical_data\n",
    "updated_medical_data = medical_data.replace(\"#\", \"$\")\n",
    "print(\"\\nUpdated Medical Data:\\n\", updated_medical_data)"
   ]
  },
  {
   "cell_type": "code",
   "execution_count": 6,
   "id": "a190abe2-e6a3-4faa-974d-fc34463b7c0a",
   "metadata": {},
   "outputs": [],
   "source": [
    "# Task 3: Initialize num_records to count medical records\n",
    "num_records = 0"
   ]
  },
  {
   "cell_type": "code",
   "execution_count": 7,
   "id": "75e75298-a949-4e24-a8a0-5dc3d26e9e68",
   "metadata": {},
   "outputs": [],
   "source": [
    "# Task 4: Count records by iterating over updated_medical_data and checking for $\n",
    "for character in updated_medical_data:\n",
    "    if character == \"$\":\n",
    "        num_records += 1"
   ]
  },
  {
   "cell_type": "code",
   "execution_count": 8,
   "id": "d640fe7a-8bb1-49f4-b5d1-df346f9417dc",
   "metadata": {},
   "outputs": [
    {
     "name": "stdout",
     "output_type": "stream",
     "text": [
      "\n",
      "Number of medical records: 10\n"
     ]
    }
   ],
   "source": [
    "# Print num_records to verify\n",
    "print(f\"\\nNumber of medical records: {num_records}\")"
   ]
  },
  {
   "cell_type": "code",
   "execution_count": 11,
   "id": "16e753ca-b6f8-4f69-9cf8-09a6f556ec57",
   "metadata": {},
   "outputs": [
    {
     "name": "stdout",
     "output_type": "stream",
     "text": [
      "\n",
      "Medical Data Split:\n",
      " ['Marina Allison   ,27   ,   31.1 , \\n$7010.0   ', 'Markus Valdez   ,   30, \\n22.4,   $4050.0 ', 'Connie Ballard ,43 \\n,   25.3 , $12060.0 ', 'Darnell Weber   \\n,   35   , 20.6   , $7500.0', '\\nSylvie Charles   ,22, 22.1 \\n,$3022.0   ', '   Vinay Padilla,24,   \\n26.9 ,$4620.0 ', 'Meredith Santiago, 51   , \\n29.3 ,$16330.0', '   Andre Mccarty, \\n19,22.7 , $2900.0 ', ' \\nLorena Hodson ,65, 33.1 , $19370.0', ' \\nIsaac Vu ,34, 24.8,   $7045.0']\n"
     ]
    }
   ],
   "source": [
    "# Split updated_medical_data into a list of records\n",
    "medical_data_split = updated_medical_data.split(\";\")\n",
    "print(\"\\nMedical Data Split:\\n\", medical_data_split)"
   ]
  },
  {
   "cell_type": "code",
   "execution_count": 13,
   "id": "0d2c7ace-e164-4aa4-9a18-81a4bb1c2033",
   "metadata": {},
   "outputs": [],
   "source": [
    "# Define an empty list for medical_records\n",
    "medical_records = []"
   ]
  },
  {
   "cell_type": "code",
   "execution_count": 14,
   "id": "475e58bf-659f-417b-8e43-68e305a091a5",
   "metadata": {},
   "outputs": [
    {
     "name": "stdout",
     "output_type": "stream",
     "text": [
      "\n",
      "Medical Records:\n",
      " [['Marina Allison   ', '27   ', '   31.1 ', ' \\n$7010.0   '], ['Markus Valdez   ', '   30', ' \\n22.4', '   $4050.0 '], ['Connie Ballard ', '43 \\n', '   25.3 ', ' $12060.0 '], ['Darnell Weber   \\n', '   35   ', ' 20.6   ', ' $7500.0'], ['\\nSylvie Charles   ', '22', ' 22.1 \\n', '$3022.0   '], ['   Vinay Padilla', '24', '   \\n26.9 ', '$4620.0 '], ['Meredith Santiago', ' 51   ', ' \\n29.3 ', '$16330.0'], ['   Andre Mccarty', ' \\n19', '22.7 ', ' $2900.0 '], [' \\nLorena Hodson ', '65', ' 33.1 ', ' $19370.0'], [' \\nIsaac Vu ', '34', ' 24.8', '   $7045.0']]\n"
     ]
    }
   ],
   "source": [
    "# Split each record by comma and append to medical_records\n",
    "for record in medical_data_split:\n",
    "    medical_records.append(record.split(','))\n",
    "print(\"\\nMedical Records:\\n\", medical_records)"
   ]
  },
  {
   "cell_type": "code",
   "execution_count": 15,
   "id": "4deab61e-5111-4740-83ad-dea33203d505",
   "metadata": {},
   "outputs": [],
   "source": [
    "# Define an empty list for cleaned medical records\n",
    "medical_records_clean = []"
   ]
  },
  {
   "cell_type": "code",
   "execution_count": 17,
   "id": "f9c7f7dd-9294-4310-a884-2801eff319f3",
   "metadata": {},
   "outputs": [],
   "source": [
    "for record in medical_records:\n",
    "    record_clean = []\n",
    "    for item in record:\n",
    "        record_clean.append(item.strip())\n",
    "    medical_records_clean.append(record_clean)"
   ]
  },
  {
   "cell_type": "code",
   "execution_count": 18,
   "id": "b42c9756-99d1-4848-ae92-23d524f91fe9",
   "metadata": {},
   "outputs": [
    {
     "name": "stdout",
     "output_type": "stream",
     "text": [
      "\n",
      "Medical Records Clean:\n",
      " [['Marina Allison', '27', '31.1', '$7010.0'], ['Markus Valdez', '30', '22.4', '$4050.0'], ['Connie Ballard', '43', '25.3', '$12060.0'], ['Darnell Weber', '35', '20.6', '$7500.0'], ['Sylvie Charles', '22', '22.1', '$3022.0'], ['Vinay Padilla', '24', '26.9', '$4620.0'], ['Meredith Santiago', '51', '29.3', '$16330.0'], ['Andre Mccarty', '19', '22.7', '$2900.0'], ['Lorena Hodson', '65', '33.1', '$19370.0'], ['Isaac Vu', '34', '24.8', '$7045.0']]\n"
     ]
    }
   ],
   "source": [
    "# Print medical_records_clean to verify\n",
    "print(\"\\nMedical Records Clean:\\n\", medical_records_clean)"
   ]
  },
  {
   "cell_type": "code",
   "execution_count": 21,
   "id": "ee832890-4edf-42fb-92b3-52139e574966",
   "metadata": {},
   "outputs": [
    {
     "name": "stdout",
     "output_type": "stream",
     "text": [
      "\n",
      "Names of Individuals:\n",
      "MARINA ALLISON\n",
      "MARKUS VALDEZ\n",
      "CONNIE BALLARD\n",
      "DARNELL WEBER\n",
      "SYLVIE CHARLES\n",
      "VINAY PADILLA\n",
      "MEREDITH SANTIAGO\n",
      "ANDRE MCCARTY\n",
      "LORENA HODSON\n",
      "ISAAC VU\n"
     ]
    }
   ],
   "source": [
    "# Print names of individuals\n",
    "print(\"\\nNames of Individuals:\")\n",
    "for record in medical_records_clean:\n",
    "    record[0] = record[0].upper()\n",
    "    print(record[0])"
   ]
  },
  {
   "cell_type": "code",
   "execution_count": 23,
   "id": "7d6b266d-e600-40f8-a104-b8a2bfa3dc38",
   "metadata": {},
   "outputs": [],
   "source": [
    "# Task 16: Create empty lists for names, ages, BMIs, and insurance costs\n",
    "names = []\n",
    "ages = []\n",
    "bmis = []\n",
    "insurance_costs = []"
   ]
  },
  {
   "cell_type": "code",
   "execution_count": 24,
   "id": "f8758106-4a85-4aad-a5d5-9acb5e2fe092",
   "metadata": {},
   "outputs": [],
   "source": [
    "# Task 17: Populate lists from medical_records_clean\n",
    "for record in medical_records_clean:\n",
    "    names.append(record[0])\n",
    "    ages.append(record[1])\n",
    "    bmis.append(record[2])\n",
    "    insurance_costs.append(record[3])"
   ]
  },
  {
   "cell_type": "code",
   "execution_count": 25,
   "id": "9c3fb3cd-704a-408f-b774-c5ad02dd04d0",
   "metadata": {},
   "outputs": [
    {
     "name": "stdout",
     "output_type": "stream",
     "text": [
      "\n",
      "Names:\n",
      " ['MARINA ALLISON', 'MARKUS VALDEZ', 'CONNIE BALLARD', 'DARNELL WEBER', 'SYLVIE CHARLES', 'VINAY PADILLA', 'MEREDITH SANTIAGO', 'ANDRE MCCARTY', 'LORENA HODSON', 'ISAAC VU']\n",
      "\n",
      "Ages:\n",
      " ['27', '30', '43', '35', '22', '24', '51', '19', '65', '34']\n",
      "\n",
      "BMIs:\n",
      " ['31.1', '22.4', '25.3', '20.6', '22.1', '26.9', '29.3', '22.7', '33.1', '24.8']\n",
      "\n",
      "Insurance Costs:\n",
      " ['$7010.0', '$4050.0', '$12060.0', '$7500.0', '$3022.0', '$4620.0', '$16330.0', '$2900.0', '$19370.0', '$7045.0']\n"
     ]
    }
   ],
   "source": [
    "# Task 18: Print the lists to verify\n",
    "print(\"\\nNames:\\n\", names)\n",
    "print(\"\\nAges:\\n\", ages)\n",
    "print(\"\\nBMIs:\\n\", bmis)\n",
    "print(\"\\nInsurance Costs:\\n\", insurance_costs)"
   ]
  },
  {
   "cell_type": "code",
   "execution_count": 26,
   "id": "96d3c2e4-db54-4bbc-b3a4-5cbab9f67d2a",
   "metadata": {},
   "outputs": [],
   "source": [
    "# Task 19: Initialize total_bmi\n",
    "total_bmi = 0"
   ]
  },
  {
   "cell_type": "code",
   "execution_count": 27,
   "id": "28fcdf12-e2db-480c-abb2-fd6f5f8207da",
   "metadata": {},
   "outputs": [],
   "source": [
    "# Task 20: Sum BMIs, converting to float\n",
    "for bmi in bmis:\n",
    "    total_bmi += float(bmi)"
   ]
  },
  {
   "cell_type": "code",
   "execution_count": 28,
   "id": "9a1491e8-47e4-47ae-a7af-4f503382114f",
   "metadata": {},
   "outputs": [
    {
     "name": "stdout",
     "output_type": "stream",
     "text": [
      "\n",
      "Average BMI: 25.830000000000002\n"
     ]
    }
   ],
   "source": [
    "# Task 21: Calculate and print average BMI\n",
    "average_bmi = total_bmi / len(bmis)\n",
    "print(f\"\\nAverage BMI: {average_bmi}\")"
   ]
  },
  {
   "cell_type": "code",
   "execution_count": 29,
   "id": "ee8e7f5f-c911-43a2-b20b-3356d5093027",
   "metadata": {},
   "outputs": [
    {
     "name": "stdout",
     "output_type": "stream",
     "text": [
      "\n",
      "Average Insurance Cost: $8390.7\n"
     ]
    }
   ],
   "source": [
    "# Task 22 (Extra): Calculate average insurance cost\n",
    "total_cost = 0\n",
    "for cost in insurance_costs:\n",
    "    # Remove $ and convert to float\n",
    "    total_cost += float(cost.replace(\"$\", \"\"))\n",
    "average_cost = total_cost / len(insurance_costs)\n",
    "print(f\"\\nAverage Insurance Cost: ${average_cost}\")"
   ]
  },
  {
   "cell_type": "code",
   "execution_count": 30,
   "id": "5b9ac2e9-007e-4d5e-b317-77007a2474e9",
   "metadata": {},
   "outputs": [
    {
     "name": "stdout",
     "output_type": "stream",
     "text": [
      "\n",
      "Individual Records:\n",
      "MARINA ALLISON is 27 years old with a BMI of 31.1 and an insurance cost of $7010.0.\n",
      "MARKUS VALDEZ is 30 years old with a BMI of 22.4 and an insurance cost of $4050.0.\n",
      "CONNIE BALLARD is 43 years old with a BMI of 25.3 and an insurance cost of $12060.0.\n",
      "DARNELL WEBER is 35 years old with a BMI of 20.6 and an insurance cost of $7500.0.\n",
      "SYLVIE CHARLES is 22 years old with a BMI of 22.1 and an insurance cost of $3022.0.\n",
      "VINAY PADILLA is 24 years old with a BMI of 26.9 and an insurance cost of $4620.0.\n",
      "MEREDITH SANTIAGO is 51 years old with a BMI of 29.3 and an insurance cost of $16330.0.\n",
      "ANDRE MCCARTY is 19 years old with a BMI of 22.7 and an insurance cost of $2900.0.\n",
      "LORENA HODSON is 65 years old with a BMI of 33.1 and an insurance cost of $19370.0.\n",
      "ISAAC VU is 34 years old with a BMI of 24.8 and an insurance cost of $7045.0.\n"
     ]
    }
   ],
   "source": [
    "# Task 22 (Extra): Print formatted strings for each individual\n",
    "print(\"\\nIndividual Records:\")\n",
    "for i in range(len(names)):\n",
    "    print(f\"{names[i]} is {ages[i]} years old with a BMI of {bmis[i]} and an insurance cost of {insurance_costs[i]}.\")"
   ]
  },
  {
   "cell_type": "code",
   "execution_count": null,
   "id": "966b9254-a846-45cc-9d7c-abaad4ef737a",
   "metadata": {},
   "outputs": [],
   "source": []
  }
 ],
 "metadata": {
  "kernelspec": {
   "display_name": "Python 3 (ipykernel)",
   "language": "python",
   "name": "python3"
  },
  "language_info": {
   "codemirror_mode": {
    "name": "ipython",
    "version": 3
   },
   "file_extension": ".py",
   "mimetype": "text/x-python",
   "name": "python",
   "nbconvert_exporter": "python",
   "pygments_lexer": "ipython3",
   "version": "3.12.7"
  }
 },
 "nbformat": 4,
 "nbformat_minor": 5
}
